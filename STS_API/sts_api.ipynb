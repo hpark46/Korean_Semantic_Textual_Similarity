{
  "nbformat": 4,
  "nbformat_minor": 0,
  "metadata": {
    "colab": {
      "name": "sts_api.ipynb",
      "provenance": [],
      "collapsed_sections": [],
      "machine_shape": "hm"
    },
    "kernelspec": {
      "name": "python3",
      "display_name": "Python 3"
    },
    "language_info": {
      "name": "python"
    },
    "accelerator": "GPU"
  },
  "cells": [
    {
      "cell_type": "markdown",
      "source": [
        "# STS score prediction Rest API\n",
        "\n",
        "Created Rest API using sts_vx.ckpt.3\n",
        "- GET: score estimation between two sentence (0-5)\n",
        "- POST: score estimation on one sentence against multiple sentences (csv file with header 'sentence')"
      ],
      "metadata": {
        "id": "MpHiOzJI6kbD"
      }
    },
    {
      "cell_type": "code",
      "execution_count": null,
      "metadata": {
        "id": "vB7D7Ezygai8"
      },
      "outputs": [],
      "source": [
        "!pip install transformers\n",
        "!pip install Flask\n",
        "import requests\n",
        "import pandas as pd"
      ]
    },
    {
      "cell_type": "code",
      "source": [
        "from google.colab import drive\n",
        "drive.mount(\"/content/drive\")"
      ],
      "metadata": {
        "colab": {
          "base_uri": "https://localhost:8080/"
        },
        "id": "ADe4DMI1hEto",
        "outputId": "16e19278-b1d7-4a55-ef6a-97eb2e3a8196"
      },
      "execution_count": 2,
      "outputs": [
        {
          "output_type": "stream",
          "name": "stdout",
          "text": [
            "Mounted at /content/drive\n"
          ]
        }
      ]
    },
    {
      "cell_type": "code",
      "source": [
        "example = pd.read_csv('/content/drive/MyDrive/data/KorNLUDatasets/KorSTS/sts_sentence.csv')\n",
        "example.head()"
      ],
      "metadata": {
        "colab": {
          "base_uri": "https://localhost:8080/",
          "height": 206
        },
        "id": "zWrr8u9Xg29s",
        "outputId": "cc9545d7-d102-4556-a1ed-f27de1b77cca"
      },
      "execution_count": 72,
      "outputs": [
        {
          "output_type": "execute_result",
          "data": {
            "text/plain": [
              "   Unnamed: 0                 sentence\n",
              "0           0     한 소녀가 머리를 스타일링하고 있다.\n",
              "1           1  한 무리의 남자들이 해변에서 축구를 한다.\n",
              "2           2  한 여성이 다른 여성의 발목을 재고 있다.\n",
              "3           3        한 남자가 오이를 자르고 있다.\n",
              "4           4       한 남자가 하프를 연주하고 있다."
            ],
            "text/html": [
              "\n",
              "  <div id=\"df-76520830-9094-45fc-baaf-3c9fcab4c392\">\n",
              "    <div class=\"colab-df-container\">\n",
              "      <div>\n",
              "<style scoped>\n",
              "    .dataframe tbody tr th:only-of-type {\n",
              "        vertical-align: middle;\n",
              "    }\n",
              "\n",
              "    .dataframe tbody tr th {\n",
              "        vertical-align: top;\n",
              "    }\n",
              "\n",
              "    .dataframe thead th {\n",
              "        text-align: right;\n",
              "    }\n",
              "</style>\n",
              "<table border=\"1\" class=\"dataframe\">\n",
              "  <thead>\n",
              "    <tr style=\"text-align: right;\">\n",
              "      <th></th>\n",
              "      <th>Unnamed: 0</th>\n",
              "      <th>sentence</th>\n",
              "    </tr>\n",
              "  </thead>\n",
              "  <tbody>\n",
              "    <tr>\n",
              "      <th>0</th>\n",
              "      <td>0</td>\n",
              "      <td>한 소녀가 머리를 스타일링하고 있다.</td>\n",
              "    </tr>\n",
              "    <tr>\n",
              "      <th>1</th>\n",
              "      <td>1</td>\n",
              "      <td>한 무리의 남자들이 해변에서 축구를 한다.</td>\n",
              "    </tr>\n",
              "    <tr>\n",
              "      <th>2</th>\n",
              "      <td>2</td>\n",
              "      <td>한 여성이 다른 여성의 발목을 재고 있다.</td>\n",
              "    </tr>\n",
              "    <tr>\n",
              "      <th>3</th>\n",
              "      <td>3</td>\n",
              "      <td>한 남자가 오이를 자르고 있다.</td>\n",
              "    </tr>\n",
              "    <tr>\n",
              "      <th>4</th>\n",
              "      <td>4</td>\n",
              "      <td>한 남자가 하프를 연주하고 있다.</td>\n",
              "    </tr>\n",
              "  </tbody>\n",
              "</table>\n",
              "</div>\n",
              "      <button class=\"colab-df-convert\" onclick=\"convertToInteractive('df-76520830-9094-45fc-baaf-3c9fcab4c392')\"\n",
              "              title=\"Convert this dataframe to an interactive table.\"\n",
              "              style=\"display:none;\">\n",
              "        \n",
              "  <svg xmlns=\"http://www.w3.org/2000/svg\" height=\"24px\"viewBox=\"0 0 24 24\"\n",
              "       width=\"24px\">\n",
              "    <path d=\"M0 0h24v24H0V0z\" fill=\"none\"/>\n",
              "    <path d=\"M18.56 5.44l.94 2.06.94-2.06 2.06-.94-2.06-.94-.94-2.06-.94 2.06-2.06.94zm-11 1L8.5 8.5l.94-2.06 2.06-.94-2.06-.94L8.5 2.5l-.94 2.06-2.06.94zm10 10l.94 2.06.94-2.06 2.06-.94-2.06-.94-.94-2.06-.94 2.06-2.06.94z\"/><path d=\"M17.41 7.96l-1.37-1.37c-.4-.4-.92-.59-1.43-.59-.52 0-1.04.2-1.43.59L10.3 9.45l-7.72 7.72c-.78.78-.78 2.05 0 2.83L4 21.41c.39.39.9.59 1.41.59.51 0 1.02-.2 1.41-.59l7.78-7.78 2.81-2.81c.8-.78.8-2.07 0-2.86zM5.41 20L4 18.59l7.72-7.72 1.47 1.35L5.41 20z\"/>\n",
              "  </svg>\n",
              "      </button>\n",
              "      \n",
              "  <style>\n",
              "    .colab-df-container {\n",
              "      display:flex;\n",
              "      flex-wrap:wrap;\n",
              "      gap: 12px;\n",
              "    }\n",
              "\n",
              "    .colab-df-convert {\n",
              "      background-color: #E8F0FE;\n",
              "      border: none;\n",
              "      border-radius: 50%;\n",
              "      cursor: pointer;\n",
              "      display: none;\n",
              "      fill: #1967D2;\n",
              "      height: 32px;\n",
              "      padding: 0 0 0 0;\n",
              "      width: 32px;\n",
              "    }\n",
              "\n",
              "    .colab-df-convert:hover {\n",
              "      background-color: #E2EBFA;\n",
              "      box-shadow: 0px 1px 2px rgba(60, 64, 67, 0.3), 0px 1px 3px 1px rgba(60, 64, 67, 0.15);\n",
              "      fill: #174EA6;\n",
              "    }\n",
              "\n",
              "    [theme=dark] .colab-df-convert {\n",
              "      background-color: #3B4455;\n",
              "      fill: #D2E3FC;\n",
              "    }\n",
              "\n",
              "    [theme=dark] .colab-df-convert:hover {\n",
              "      background-color: #434B5C;\n",
              "      box-shadow: 0px 1px 3px 1px rgba(0, 0, 0, 0.15);\n",
              "      filter: drop-shadow(0px 1px 2px rgba(0, 0, 0, 0.3));\n",
              "      fill: #FFFFFF;\n",
              "    }\n",
              "  </style>\n",
              "\n",
              "      <script>\n",
              "        const buttonEl =\n",
              "          document.querySelector('#df-76520830-9094-45fc-baaf-3c9fcab4c392 button.colab-df-convert');\n",
              "        buttonEl.style.display =\n",
              "          google.colab.kernel.accessAllowed ? 'block' : 'none';\n",
              "\n",
              "        async function convertToInteractive(key) {\n",
              "          const element = document.querySelector('#df-76520830-9094-45fc-baaf-3c9fcab4c392');\n",
              "          const dataTable =\n",
              "            await google.colab.kernel.invokeFunction('convertToInteractive',\n",
              "                                                     [key], {});\n",
              "          if (!dataTable) return;\n",
              "\n",
              "          const docLinkHtml = 'Like what you see? Visit the ' +\n",
              "            '<a target=\"_blank\" href=https://colab.research.google.com/notebooks/data_table.ipynb>data table notebook</a>'\n",
              "            + ' to learn more about interactive tables.';\n",
              "          element.innerHTML = '';\n",
              "          dataTable['output_type'] = 'display_data';\n",
              "          await google.colab.output.renderOutput(dataTable, element);\n",
              "          const docLink = document.createElement('div');\n",
              "          docLink.innerHTML = docLinkHtml;\n",
              "          element.appendChild(docLink);\n",
              "        }\n",
              "      </script>\n",
              "    </div>\n",
              "  </div>\n",
              "  "
            ]
          },
          "metadata": {},
          "execution_count": 72
        }
      ]
    },
    {
      "cell_type": "code",
      "source": [
        "# predict: get/post   sentence_one, sentence_two / base_sen, uploaded_file\n",
        "\n",
        "get_example = requests.get(\"http://127.0.0.1:5000/predict\", \n",
        "                    {'sentence_one': '한 남자가 밧줄을 타고 올라간다.', \n",
        "                     'sentence_two': '한 남자가 밧줄을 타고 올라가고 있다.'})\n",
        "\n",
        "op = open('/content/drive/MyDrive/data/KorNLUDatasets/KorSTS/sts_sentence.csv', 'r')\n",
        "post_example = requests.post(\"http://127.0.0.1:5000/predict\", \n",
        "                             params={'base_sen': '한 남자가 식당에서 밥을 먹고 있다.'}, \n",
        "                             files={'uploaded_file': op})\n"
      ],
      "metadata": {
        "id": "qKzNmf4whTJy"
      },
      "execution_count": 107,
      "outputs": []
    },
    {
      "cell_type": "code",
      "source": [
        "print(f'Similarity Score: {get_example.content}')"
      ],
      "metadata": {
        "colab": {
          "base_uri": "https://localhost:8080/"
        },
        "id": "PIGG2Vz-235s",
        "outputId": "044ccbd1-b6f6-4bbe-bf5f-d50083ee65af"
      },
      "execution_count": 110,
      "outputs": [
        {
          "output_type": "stream",
          "name": "stdout",
          "text": [
            "Similarity Score: b'4.906567573547363'\n"
          ]
        }
      ]
    },
    {
      "cell_type": "code",
      "source": [
        "import ast\n",
        "final = ast.literal_eval(post_example.content.decode('utf-8'))"
      ],
      "metadata": {
        "id": "6ZyLbZrXehJN"
      },
      "execution_count": 102,
      "outputs": []
    },
    {
      "cell_type": "code",
      "source": [
        "top_ten = sorted(list(final.items()), key = lambda x : float(x[1]), reverse=True)[:10]"
      ],
      "metadata": {
        "id": "Kh2KUUjlu33J"
      },
      "execution_count": 100,
      "outputs": []
    },
    {
      "cell_type": "code",
      "source": [
        "original = example['sentence'].tolist()\n",
        "for index, score in top_ten:\n",
        "    print(original[int(index)])"
      ],
      "metadata": {
        "colab": {
          "base_uri": "https://localhost:8080/"
        },
        "id": "-LzMVfVKwQZj",
        "outputId": "746ff997-5cad-45ca-da15-f9c6311bfd27"
      },
      "execution_count": 101,
      "outputs": [
        {
          "output_type": "stream",
          "name": "stdout",
          "text": [
            "한 남자가 음식을 먹고 있다.\n",
            "남자가 먹고 있다.\n",
            "한 남자와 여자가 식당의 테이블에 앉아 있다.\n",
            "식당 식탁에 둘러앉은 사람들 무리.\n",
            "한 무리의 사람들이 이탈리아 식당의 테이블에 앉아 있다.\n",
            "한 남자가 냄비에 쌀을 붓는다.\n",
            "네 명의 아이들이 식당에서 의자에 앉아 있다.\n",
            "두 명의 근로자가 파이프 옆에 앉아 점심을 먹고 있다\n",
            "한 남자가 어느 날 밤늦게 만화를 보면서 팝콘을 먹는다.\n",
            "한 남자가 쌀 한 송이를 팬에 붓고 있다.\n"
          ]
        }
      ]
    },
    {
      "cell_type": "markdown",
      "source": [
        "## GET\n",
        "### Sentence One\n",
        "한 남자가 밧줄을 타고 올라간다.\n",
        "### Sentence Two\n",
        "한 남자가 밧줄을 타고 올라가고 있다.\n",
        "\n",
        "### Score\n",
        "4.906567573547363\n",
        "\n",
        ".\n",
        "\n",
        "\n",
        "## POST\n",
        "### Base Sentence\n",
        "\n",
        "한 남자가 식당에서 밥을 먹고 있다.\n",
        "\n",
        "### Top Similar Sentences\n",
        "\n",
        "한 남자가 음식을 먹고 있다.\n",
        "\n",
        "남자가 먹고 있다.\n",
        "\n",
        "한 남자와 여자가 식당의 테이블에 앉아 있다.\n",
        "\n",
        "식당 식탁에 둘러앉은 사람들 무리.\n",
        "\n",
        "한 무리의 사람들이 이탈리아 식당의 테이블에 앉아 있다.\n",
        "\n",
        "한 남자가 냄비에 쌀을 붓는다.\n",
        "\n",
        "네 명의 아이들이 식당에서 의자에 앉아 있다.\n",
        "\n",
        "두 명의 근로자가 파이프 옆에 앉아 점심을 먹고 있다\n",
        "\n",
        "한 남자가 어느 날 밤늦게 만화를 보면서 팝콘을 먹는다.\n",
        "\n",
        "한 남자가 쌀 한 송이를 팬에 붓고 있다.\n"
      ],
      "metadata": {
        "id": "ijIQ9JhmxJzq"
      }
    }
  ]
}